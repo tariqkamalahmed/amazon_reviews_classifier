{
 "cells": [
  {
   "cell_type": "code",
   "execution_count": 16,
   "metadata": {},
   "outputs": [],
   "source": [
    "import csv,re                               # csv reader\n",
    "from sklearn.svm import LinearSVC\n",
    "from nltk.classify import SklearnClassifier\n",
    "from random import shuffle\n",
    "from sklearn.pipeline import Pipeline\n",
    "import numpy as np"
   ]
  },
  {
   "cell_type": "code",
   "execution_count": 17,
   "metadata": {},
   "outputs": [],
   "source": [
    "# load data from a file and append it to the rawData\n",
    "def loadData(path, Text=None):\n",
    "    with open(path, 'r',encoding='utf-8') as f:\n",
    "        reader = csv.reader(f, delimiter='\\t')\n",
    "        for line in reader:\n",
    "            if line[0] == \"DOC_ID\":  # skip the header\n",
    "                continue\n",
    "            (Id, Text, Label) = parseReview(line)\n",
    "            rawData.append((Id, Text, Label))\n",
    "\n",
    "\n",
    "def splitData(percentage):\n",
    "    # A method to split the data between trainData and testData \n",
    "    dataSamples = len(rawData)\n",
    "    halfOfData = int(len(rawData)/2)\n",
    "    trainingSamples = int((percentage*dataSamples)/2)\n",
    "    for (_, Text, Label) in rawData[:trainingSamples] + rawData[halfOfData:halfOfData+trainingSamples]:\n",
    "        trainData.append((toFeatureVector(preProcess(Text)),Label))\n",
    "    for (_, Text, Label) in rawData[trainingSamples:halfOfData] + rawData[halfOfData+trainingSamples:]:\n",
    "        testData.append((toFeatureVector(preProcess(Text)),Label))"
   ]
  },
  {
   "cell_type": "code",
   "execution_count": 18,
   "metadata": {},
   "outputs": [],
   "source": [
    "def parseReview(reviewLine):\n",
    "    \n",
    "    if reviewLine[1]  == '__label1__':\n",
    "        reviewLine[1] = 'fake'\n",
    "    else :\n",
    "        reviewLine[1] = 'real'\n",
    "     \n",
    "    return reviewLine[0], reviewLine[8], reviewLine[1] "
   ]
  },
  {
   "cell_type": "code",
   "execution_count": 19,
   "metadata": {},
   "outputs": [],
   "source": [
    "# Use the labels('__label1__' or '__label2__') given in reviewLine[1] to tell if the review is fake.\n",
    "#Return a triple of an doc id,review and if the review is real or not base on its position in the dataset "
   ]
  },
  {
   "cell_type": "code",
   "execution_count": 20,
   "metadata": {},
   "outputs": [],
   "source": [
    "def preProcess(text):\n",
    "    # word tokenisation\n",
    "    # separate out words and strings of punctuation into separate white spaced words\n",
    "    text = re.sub(r\"(\\w)([.,;:!?\\\"”\\)])\", r\"\\1 \\2\", text)\n",
    "    text = re.sub(r\"([.,;:!?'\\\"“\\(])(\\w)\", r\"\\1 \\2\", text)\n",
    "    tokens = re.split(r\"\\s+\",text)#split the regular expression by the white space\n",
    "    text = re.sub(r\"(\\S)\\1\\1+\",r\"\\1\\1\\1\", text) \n",
    "    tokens = [t.lower() for t in tokens]\n",
    "    return tokens"
   ]
  },
  {
   "cell_type": "code",
   "execution_count": 21,
   "metadata": {},
   "outputs": [],
   "source": [
    "# Use regex to tokenise the words, the regex is used to split words based on punctuation after the word\n",
    "# The second regex is used to split the punctuation before the word\n",
    "# Split the words based on white space\n",
    "# Tokenize and convert to lower case"
   ]
  },
  {
   "cell_type": "code",
   "execution_count": 22,
   "metadata": {},
   "outputs": [],
   "source": [
    "featureDict = {}\n",
    "def toFeatureVector(words): # turn into feature vectors \n",
    "    v = {}\n",
    "    for w in words:\n",
    "        try:\n",
    "            v[w] += (1.0)\n",
    "        except KeyError:\n",
    "            v[w] = (1.0)\n",
    "    return v"
   ]
  },
  {
   "cell_type": "code",
   "execution_count": 23,
   "metadata": {},
   "outputs": [],
   "source": [
    "#Create a dictionary that gives each word a weight of +1 everytime it is seen. \n",
    "#If i word is not seen add it to the dictionary with a weight of +1"
   ]
  },
  {
   "cell_type": "code",
   "execution_count": 24,
   "metadata": {},
   "outputs": [],
   "source": [
    "# TRAINING AND VALIDATING OUR CLASSIFIER\n",
    "def trainClassifier(trainData):\n",
    "    print(\"Training Classifier...\")\n",
    "    pipeline =  Pipeline([('svc', LinearSVC())])\n",
    "    return SklearnClassifier(pipeline).train(trainData)"
   ]
  },
  {
   "cell_type": "code",
   "execution_count": 25,
   "metadata": {},
   "outputs": [],
   "source": [
    "def crossValidate(dataset, folds):\n",
    "    shuffle(dataset)\n",
    "    cv_results = []\n",
    "    foldSize = int(len(dataset)/folds)\n",
    "    # DESCRIBE YOUR METHOD IN WORDS\n",
    "    for i in range(0,len(dataset),foldSize):\n",
    "        trainFolds = dataset[i:i+foldSize]\n",
    "        validationFold = dataset[:i] + dataset[i+foldSize:]\n",
    "        classifier = trainClassifier(trainFolds)\n",
    "        truth = [x[1] for x in validationFold]\n",
    "        pred = predictLabels(validationFold,classifier)\n",
    "        cv_results.append(precision_recall_fscore_support(truth, pred, average='weighted'))\n",
    "    \n",
    "    return cv_results\n"
   ]
  },
  {
   "cell_type": "code",
   "execution_count": 26,
   "metadata": {},
   "outputs": [],
   "source": [
    "# Foldsize is the created as a integer based on the size of the dataset divided by the fold given as 10 in the main\n",
    "#using the k*I-fold cross-validation is used with both validation and train set\n",
    "#create a classifer using a function tainclassifer cased on the trainfold\n",
    "#create a prediction variable using the predictLabels function on the validationfold  \n",
    "#append the groundtruth and prediction variables to the fscore"
   ]
  },
  {
   "cell_type": "code",
   "execution_count": 27,
   "metadata": {},
   "outputs": [],
   "source": [
    "# PREDICTING LABELS GIVEN A CLASSIFIER\n",
    "\n",
    "def predictLabels(reviewSamples, classifier):\n",
    "    return classifier.classify_many(map(lambda t: t[0], reviewSamples))\n",
    "\n",
    "def predictLabel(text, classifier):\n",
    "    return classifier.classify(toFeatureVector(preProcess(text)))\n"
   ]
  },
  {
   "cell_type": "code",
   "execution_count": 28,
   "metadata": {},
   "outputs": [
    {
     "name": "stdout",
     "output_type": "stream",
     "text": [
      "Now 0 rawData, 0 trainData\n",
      "Preparing the dataset...\n",
      "Now 21000 rawData, 0 trainData\n",
      "Preparing the dataset...\n",
      "Now 21000 rawData, 16800 trainData\n",
      "Training Samples: \n",
      "16800\n",
      "Features: \n",
      "0\n",
      "Training Classifier...\n",
      "Training Classifier...\n",
      "Training Classifier...\n",
      "Training Classifier...\n",
      "Training Classifier...\n",
      "Training Classifier...\n",
      "Training Classifier...\n",
      "Training Classifier...\n",
      "Training Classifier...\n",
      "Training Classifier...\n"
     ]
    },
    {
     "data": {
      "text/plain": [
       "[(0.5947052014793951, 0.5944444444444444, 0.59423371092985, None),\n",
       " (0.5927283533269315, 0.5927248677248678, 0.5927239555990296, None),\n",
       " (0.5837131745073534, 0.5836640211640212, 0.5836559954015762, None),\n",
       " (0.5876364051724503, 0.5876322751322751, 0.5876329804071146, None),\n",
       " (0.5811965244504679, 0.580952380952381, 0.5806834856188544, None),\n",
       " (0.5941764877074379, 0.5941798941798941, 0.5941751864118677, None),\n",
       " (0.5878453582805098, 0.5875661375661375, 0.5873263174891926, None),\n",
       " (0.5967001121330788, 0.5966931216931217, 0.5966735527054605, None),\n",
       " (0.5841444588852223, 0.5841269841269842, 0.5840976870681831, None),\n",
       " (0.5831684909080361, 0.5831349206349207, 0.5831079267165358, None)]"
      ]
     },
     "execution_count": 28,
     "metadata": {},
     "output_type": "execute_result"
    }
   ],
   "source": [
    "from sklearn import metrics\n",
    "from sklearn.metrics import accuracy_score\n",
    "from sklearn.metrics import precision_recall_fscore_support\n",
    "\n",
    "# loading reviews\n",
    "rawData = []         \n",
    "trainData = []        \n",
    "testData = []         \n",
    "\n",
    "fakeLabel = 'fake'\n",
    "realLabel = 'real'\n",
    "\n",
    "# references to the data files\n",
    "reviewPath = 'amazon_reviews.txt'\n",
    "\n",
    "\n",
    "print(\"Now %d rawData, %d trainData\" % (len(rawData), len(trainData)),\n",
    "      \"Preparing the dataset...\",sep='\\n')\n",
    "loadData(reviewPath) \n",
    "#print(trainData[0])\n",
    "print(\"Now %d rawData, %d trainData\" % (len(rawData), len(trainData)),\n",
    "      \"Preparing the dataset...\",sep='\\n')\n",
    "\n",
    "splitData(0.8)\n",
    "# We print the number of training samples and the number of features\n",
    "print(\"Now %d rawData, %d trainData\" % (len(rawData), len(trainData)),\n",
    "      \"Training Samples: \", len(trainData), \"Features: \", len(featureDict), sep='\\n')\n",
    "crossValidate(trainData, 10) # perform 10 folds using the crossvalidate method"
   ]
  },
  {
   "cell_type": "code",
   "execution_count": 29,
   "metadata": {},
   "outputs": [
    {
     "name": "stdout",
     "output_type": "stream",
     "text": [
      "({'this': 2.0, 'assortment': 1.0, 'is': 1.0, 'really': 1.0, \"hershey'\": 1.0, 's': 1.0, 'at': 1.0, 'their': 1.0, 'best': 1.0, '.': 2.0, 'the': 2.0, 'little': 1.0, 'ones': 1.0, 'are': 1.0, 'always': 1.0, 'excited': 1.0, 'whenever': 1.0, 'holidays': 1.0, 'come': 1.0, 'because': 1.0, 'of': 1.0}, 'fake')\n",
      "Training Classifier...\n",
      "Done training!\n",
      "Precision: 0.605029\n",
      "Recall: 0.605000\n",
      "F Score:0.604973\n"
     ]
    }
   ],
   "source": [
    "# Finally, check the accuracy of your classifier by training on all the tranin data\n",
    "# and testing on the test set\n",
    "# Will only work once all functions are complete\n",
    "functions_complete = True  # set to True once you're happy with your methods for cross val\n",
    "if functions_complete:\n",
    "    print(testData[0])   # have a look at the first test data instance\n",
    "    classifier = trainClassifier(trainData)  # train the classifier\n",
    "    testTrue = [t[1] for t in testData]   # get the ground-truth labels from the data\n",
    "    testPred = predictLabels(testData, classifier)  # classify the test data to get predicted labels\n",
    "    finalScores = precision_recall_fscore_support(testTrue, testPred, average='weighted') # evaluate\n",
    "    print(\"Done training!\")\n",
    "    print(\"Precision: %f\\nRecall: %f\\nF Score:%f\" % finalScores[:3])"
   ]
  },
  {
   "cell_type": "code",
   "execution_count": null,
   "metadata": {},
   "outputs": [],
   "source": []
  }
 ],
 "metadata": {
  "kernelspec": {
   "display_name": "Python 3",
   "language": "python",
   "name": "python3"
  },
  "language_info": {
   "codemirror_mode": {
    "name": "ipython",
    "version": 3
   },
   "file_extension": ".py",
   "mimetype": "text/x-python",
   "name": "python",
   "nbconvert_exporter": "python",
   "pygments_lexer": "ipython3",
   "version": "3.7.6"
  },
  "toc": {
   "base_numbering": 1,
   "nav_menu": {},
   "number_sections": true,
   "sideBar": true,
   "skip_h1_title": false,
   "title_cell": "Table of Contents",
   "title_sidebar": "Contents",
   "toc_cell": false,
   "toc_position": {},
   "toc_section_display": true,
   "toc_window_display": false
  }
 },
 "nbformat": 4,
 "nbformat_minor": 4
}
