{
 "cells": [
  {
   "cell_type": "code",
   "execution_count": 1,
   "metadata": {},
   "outputs": [],
   "source": [
    "import csv,re                               # csv reader\n",
    "from sklearn.svm import LinearSVC\n",
    "from nltk.classify import SklearnClassifier\n",
    "from random import shuffle\n",
    "from sklearn.pipeline import Pipeline\n",
    "import numpy as np"
   ]
  },
  {
   "cell_type": "code",
   "execution_count": 2,
   "metadata": {},
   "outputs": [],
   "source": [
    "# load data from a file and append it to the rawData\n",
    "def loadData(path, Text=None):\n",
    "    with open(path, 'r',encoding='utf-8') as f:\n",
    "        reader = csv.reader(f, delimiter='\\t')\n",
    "        for line in reader:\n",
    "            if line[0] == \"DOC_ID\":  # skip the header\n",
    "                continue\n",
    "            (Id, Text, Label) = parseReview(line)\n",
    "            rawData.append((Id, Text, Label))\n",
    "\n",
    "\n",
    "def splitData(percentage):\n",
    "    # A method to split the data between trainData and testData \n",
    "    dataSamples = len(rawData)\n",
    "    halfOfData = int(len(rawData)/2)\n",
    "    trainingSamples = int((percentage*dataSamples)/2)\n",
    "    for (_, Text, Label) in rawData[:trainingSamples] + rawData[halfOfData:halfOfData+trainingSamples]:\n",
    "        trainData.append((toFeatureVector(preProcess(Text)),Label))\n",
    "    for (_, Text, Label) in rawData[trainingSamples:halfOfData] + rawData[halfOfData+trainingSamples:]:\n",
    "        testData.append((toFeatureVector(preProcess(Text)),Label))"
   ]
  },
  {
   "cell_type": "code",
   "execution_count": 3,
   "metadata": {},
   "outputs": [],
   "source": [
    "def parseReview(reviewLine):\n",
    "    \n",
    "    if reviewLine[1]  == '__label1__':\n",
    "        reviewLine[1] = 'fake'\n",
    "    else :\n",
    "        reviewLine[1] = 'real'\n",
    "     \n",
    "    #print(\"Doc,id,true :\",reviewLine[0], reviewLine[8], reviewLine[1])\n",
    "    return reviewLine[0], reviewLine[8], reviewLine[1] #returns a triple of an doc id,review and if the review is real or not base on its position in the dataset "
   ]
  },
  {
   "cell_type": "code",
   "execution_count": 4,
   "metadata": {},
   "outputs": [],
   "source": [
    "def preProcess(text):\n",
    "    # word tokenisation\n",
    "    # separate out words and strings of punctuation into separate white spaced words\n",
    "    text = re.sub(r\"(\\w)([.,;:!?'\\\"”\\)])\", r\"\\1 \\2\", text)\n",
    "    text = re.sub(r\"([.,;:!?'\\\"“\\(])(\\w)\", r\"\\1 \\2\", text)\n",
    "    tokens = re.split(r\"\\s+\",text)#split the regular expression by the white space\n",
    "    text = re.sub(r\"(\\S)\\1\\1+\",r\"\\1\\1\\1\", text) #normalisation\n",
    "    tokens = [t.lower() for t in tokens]\n",
    "    return tokens"
   ]
  },
  {
   "cell_type": "code",
   "execution_count": 5,
   "metadata": {},
   "outputs": [],
   "source": [
    "featureDict = {}\n",
    "def toFeatureVector(words): # turn into feature vectors\n",
    "    v = {}\n",
    "    for w in words:\n",
    "#         try:\n",
    "#             i = featureDict[w]\n",
    "#         except KeyError:\n",
    "#             i = len(featureDict) + 1\n",
    "#             featureDict[w] = i\n",
    "        try:\n",
    "            v[w] += (1.0)\n",
    "        except KeyError:\n",
    "            v[w] = (1.0)\n",
    "    return v"
   ]
  },
  {
   "cell_type": "code",
   "execution_count": 6,
   "metadata": {},
   "outputs": [],
   "source": [
    "# TRAINING AND VALIDATING OUR CLASSIFIER\n",
    "def trainClassifier(trainData):\n",
    "    print(\"Training Classifier...\")\n",
    "    pipeline =  Pipeline([('svc', LinearSVC())])\n",
    "    return SklearnClassifier(pipeline).train(trainData)"
   ]
  },
  {
   "cell_type": "code",
   "execution_count": 7,
   "metadata": {},
   "outputs": [],
   "source": [
    "def crossValidate(dataset, folds):\n",
    "    shuffle(dataset)\n",
    "    cv_results = []\n",
    "    foldSize = int(len(dataset)/folds)\n",
    "    # DESCRIBE YOUR METHOD IN WORDS\n",
    "    for i in range(0,len(dataset),foldSize):\n",
    "        trainFolds = dataset[i:i+foldSize]\n",
    "        validationFold = dataset[:i] + dataset[i+foldSize:]\n",
    "        classifier = trainClassifier(trainFolds)\n",
    "        truth = [x[1] for x in validationFold]\n",
    "        pred = predictLabels(validationFold,classifier)\n",
    "        cv_results.append(precision_recall_fscore_support(truth, pred, average='weighted'))\n",
    "    \n",
    "    return cv_results\n"
   ]
  },
  {
   "cell_type": "code",
   "execution_count": 8,
   "metadata": {},
   "outputs": [],
   "source": [
    "# PREDICTING LABELS GIVEN A CLASSIFIER\n",
    "\n",
    "def predictLabels(reviewSamples, classifier):\n",
    "    return classifier.classify_many(map(lambda t: t[0], reviewSamples))\n",
    "\n",
    "def predictLabel(text, classifier):\n",
    "    return classifier.classify(toFeatureVector(preProcess(text)))\n"
   ]
  },
  {
   "cell_type": "code",
   "execution_count": 9,
   "metadata": {},
   "outputs": [
    {
     "name": "stdout",
     "output_type": "stream",
     "text": [
      "Now 0 rawData, 0 trainData\n",
      "Preparing the dataset...\n",
      "Now 21000 rawData, 0 trainData\n",
      "Preparing the dataset...\n",
      "Now 21000 rawData, 16800 trainData\n",
      "Training Samples: \n",
      "16800\n",
      "Features: \n",
      "0\n",
      "({'when': 1.0, 'least': 1.0, 'you': 2.0, 'think': 1.0, 'so': 1.0, ',': 1.0, 'this': 1.0, 'product': 1.0, 'will': 1.0, 'save': 1.0, 'the': 1.0, 'day': 1.0, '.': 2.0, 'just': 2.0, 'keep': 1.0, 'it': 2.0, 'around': 1.0, 'in': 1.0, 'case': 1.0, 'need': 1.0, 'for': 1.0, 'something': 1.0}, 'fake')\n"
     ]
    }
   ],
   "source": [
    "from sklearn import metrics\n",
    "from sklearn.metrics import accuracy_score\n",
    "from sklearn.metrics import precision_recall_fscore_support\n",
    "\n",
    "# loading reviews\n",
    "rawData = []         \n",
    "trainData = []        \n",
    "testData = []         \n",
    "\n",
    "fakeLabel = 'fake'\n",
    "realLabel = 'real'\n",
    "\n",
    "# references to the data files\n",
    "reviewPath = 'amazon_reviews.txt'\n",
    "\n",
    "\n",
    "print(\"Now %d rawData, %d trainData\" % (len(rawData), len(trainData)),\n",
    "      \"Preparing the dataset...\",sep='\\n')\n",
    "loadData(reviewPath) \n",
    "#print(trainData[0])\n",
    "print(\"Now %d rawData, %d trainData\" % (len(rawData), len(trainData)),\n",
    "      \"Preparing the dataset...\",sep='\\n')\n",
    "\n",
    "splitData(0.8)\n",
    "# We print the number of training samples and the number of features\n",
    "print(\"Now %d rawData, %d trainData\" % (len(rawData), len(trainData)),\n",
    "      \"Training Samples: \", len(trainData), \"Features: \", len(featureDict), sep='\\n')\n",
    "print(trainData[0])"
   ]
  },
  {
   "cell_type": "code",
   "execution_count": 10,
   "metadata": {},
   "outputs": [
    {
     "name": "stdout",
     "output_type": "stream",
     "text": [
      "Training Classifier...\n",
      "Training Classifier...\n",
      "Training Classifier...\n",
      "Training Classifier...\n",
      "Training Classifier...\n",
      "Training Classifier...\n",
      "Training Classifier...\n",
      "Training Classifier...\n",
      "Training Classifier...\n",
      "Training Classifier...\n"
     ]
    },
    {
     "data": {
      "text/plain": [
       "[(0.5758686804241684, 0.5757936507936507, 0.5757477184065353, None),\n",
       " (0.579949251220374, 0.5798280423280423, 0.5796647668416823, None),\n",
       " (0.5910946735777177, 0.5909391534391535, 0.5908352893446083, None),\n",
       " (0.5960887986209036, 0.596031746031746, 0.5959794920698382, None),\n",
       " (0.5906387603575606, 0.5905423280423281, 0.5904688606149482, None),\n",
       " (0.5839593516033366, 0.5839285714285715, 0.5838825845333073, None),\n",
       " (0.5798502698505095, 0.5796957671957672, 0.579610634690216, None),\n",
       " (0.5866602971175876, 0.5866402116402116, 0.5866376802829733, None),\n",
       " (0.5970496902336017, 0.5968915343915344, 0.5967401324931128, None),\n",
       " (0.59346253772726, 0.593452380952381, 0.5933934593524084, None)]"
      ]
     },
     "execution_count": 10,
     "metadata": {},
     "output_type": "execute_result"
    }
   ],
   "source": [
    "crossValidate(trainData, 10) "
   ]
  },
  {
   "cell_type": "code",
   "execution_count": null,
   "metadata": {},
   "outputs": [],
   "source": []
  },
  {
   "cell_type": "code",
   "execution_count": null,
   "metadata": {},
   "outputs": [],
   "source": []
  }
 ],
 "metadata": {
  "kernelspec": {
   "display_name": "Python 3",
   "language": "python",
   "name": "python3"
  },
  "language_info": {
   "codemirror_mode": {
    "name": "ipython",
    "version": 3
   },
   "file_extension": ".py",
   "mimetype": "text/x-python",
   "name": "python",
   "nbconvert_exporter": "python",
   "pygments_lexer": "ipython3",
   "version": "3.7.6"
  },
  "toc": {
   "base_numbering": 1,
   "nav_menu": {},
   "number_sections": true,
   "sideBar": true,
   "skip_h1_title": false,
   "title_cell": "Table of Contents",
   "title_sidebar": "Contents",
   "toc_cell": false,
   "toc_position": {},
   "toc_section_display": true,
   "toc_window_display": false
  }
 },
 "nbformat": 4,
 "nbformat_minor": 4
}
