{
 "cells": [
  {
   "cell_type": "code",
   "execution_count": 1,
   "metadata": {},
   "outputs": [],
   "source": [
    "import csv,re                               # csv reader\n",
    "from sklearn.svm import LinearSVC\n",
    "from nltk.classify import SklearnClassifier\n",
    "from random import shuffle\n",
    "from sklearn.pipeline import Pipeline\n",
    "from nltk.tokenize import word_tokenize\n",
    "from nltk.stem import WordNetLemmatizer\n",
    "import numpy as np"
   ]
  },
  {
   "cell_type": "code",
   "execution_count": 2,
   "metadata": {},
   "outputs": [],
   "source": [
    "def loadData(path, Text=None):\n",
    "    with open(path, 'r',encoding='utf-8') as f:\n",
    "        reader = csv.reader(f, delimiter='\\t')\n",
    "        next(reader)\n",
    "        for line in reader:\n",
    "            (Id, Text, Rating, Verified, Category, Label) = parseReview(line)\n",
    "            rawData.append((Id, Text, Rating, Verified, Category, Label))\n",
    "\n",
    "def splitData(percentage):\n",
    "    dataSamples = len(rawData)\n",
    "    halfOfData = int(len(rawData)/2)\n",
    "    trainingSamples = int((percentage*dataSamples)/2)\n",
    "    \n",
    "    for (_, Text, Rating, Verified, Category, Label) in rawData[:trainingSamples] + rawData[halfOfData:halfOfData+trainingSamples]:\n",
    "        other_features = toFeatureVector(preProcess(Text))\n",
    "        other_features.update({'Rating':Rating, 'Verified':Verified, 'Category':Category}) \n",
    "        trainData.append((other_features, Label))\n",
    "    for (_, Text, Rating, Verified, Category, Label) in rawData[trainingSamples:halfOfData] + rawData[halfOfData+trainingSamples:]:\n",
    "        other_features = toFeatureVector(preProcess(Text))\n",
    "        other_features.update({'Rating':Rating, 'Verified':Verified, 'Category':Category}) \n",
    "        testData.append((other_features, Label))"
   ]
  },
  {
   "cell_type": "markdown",
   "metadata": {},
   "source": [
    "# Question 1"
   ]
  },
  {
   "cell_type": "code",
   "execution_count": 3,
   "metadata": {},
   "outputs": [],
   "source": [
    "def parseReview(reviewLine):\n",
    "    \n",
    "    Id = reviewLine[0]\n",
    "    Text = reviewLine[8]\n",
    "    Label = reviewLine[1]\n",
    "    Rating = reviewLine[2] \n",
    "    Verified = reviewLine[3]\n",
    "    Category = reviewLine[4]\n",
    "   \n",
    "    return (Id, Text, Rating, Verified, Category, Label)\n",
    "# the rating chosen as maybe relation with fake reviews and the rating given\n",
    "# if the reviewer was verified to help with classification and improve scores\n",
    "# the category as also maybe higher fake reviews in specific categories\n",
    "    "
   ]
  },
  {
   "cell_type": "code",
   "execution_count": 4,
   "metadata": {},
   "outputs": [],
   "source": [
    "def preProcess(text):\n",
    "    # word tokenisation\n",
    "    # separate out words and strings of punctuation into separate white spaced words\n",
    "    text = re.sub(r\"(\\w)([.,;:!?'\\\"”\\)])\", r\"\\1 \\2\", text) #remove\n",
    "    text = re.sub(r\"([.,;:!?'\\\"“\\(])(\\w)\", r\"\\1 \\2\", text)\n",
    "    tokens = re.split(r\"\\s+\",text)#split the regular expression by the white space\n",
    "    text = re.sub(r\"(\\S)\\1\\1+\",r\"\\1\\1\\1\", text) #normalisation\n",
    "    tokens = [t.lower() for t in tokens] \n",
    "    tokens = word_tokenize(text)\n",
    "    tokens = [WordNetLemmatizer().lemmatize(t) for t in tokens] \n",
    "    return tokens"
   ]
  },
  {
   "cell_type": "markdown",
   "metadata": {},
   "source": [
    "# Question 2"
   ]
  },
  {
   "cell_type": "code",
   "execution_count": 5,
   "metadata": {},
   "outputs": [],
   "source": [
    "featureDict = {} # \n",
    "def toFeatureVector(words):     # returns a dictionary where the features as keys, and weights as values\n",
    "    v = {}\n",
    "    for w in words:\n",
    "        try:\n",
    "            featureDict[w] += 1\n",
    "        except KeyError:            \n",
    "            featureDict[w] = 1\n",
    "        try:\n",
    "            v[w] += (1.0/len(words))\n",
    "        except KeyError:\n",
    "            v[w] = (1.0/len(words))\n",
    "\n",
    "    return v\n",
    "# returns a dictionary with the features as keys, and weights as values where the key is not \n",
    "#in the dictionary add it and give it a wiehgt of 1, which improved the finalscore from the previous method of \n",
    "# just adding to the word to the dictionary with no weight of the actual word"
   ]
  },
  {
   "cell_type": "code",
   "execution_count": 6,
   "metadata": {},
   "outputs": [],
   "source": [
    "# TRAINING AND VALIDATING OUR CLASSIFIER\n",
    "def trainClassifier(trainData):\n",
    "    print(\"Training Classifier...\")\n",
    "    pipeline =  Pipeline([('svc', LinearSVC())])\n",
    "    return SklearnClassifier(pipeline).train(trainData)"
   ]
  },
  {
   "cell_type": "markdown",
   "metadata": {},
   "source": [
    "# Question 3"
   ]
  },
  {
   "cell_type": "code",
   "execution_count": 7,
   "metadata": {},
   "outputs": [],
   "source": [
    "def crossValidate(dataset, folds):\n",
    "    shuffle(dataset)\n",
    "    cv_results = []\n",
    "    foldSize = int(len(dataset)/folds)\n",
    "    # DESCRIBE YOUR METHOD IN WORDS\n",
    "    for i in range(0,len(dataset),foldSize):\n",
    "        trainFolds = dataset[i:i+foldSize]\n",
    "        validationFold = dataset[:i] + dataset[i+foldSize:]\n",
    "        classifier = trainClassifier(trainFolds)\n",
    "        truth = [x[1] for x in validationFold]\n",
    "        pred = predictLabels(validationFold,classifier)\n",
    "        cv_results.append(precision_recall_fscore_support(truth, pred, average='weighted'))\n",
    "    \n",
    "    return cv_results\n"
   ]
  },
  {
   "cell_type": "code",
   "execution_count": 8,
   "metadata": {},
   "outputs": [],
   "source": [
    "# PREDICTING LABELS GIVEN A CLASSIFIER\n",
    "\n",
    "def predictLabels(reviewSamples, classifier):\n",
    "    return classifier.classify_many(map(lambda t: t[0], reviewSamples))\n",
    "\n",
    "def predictLabel(reviewSample, classifier):\n",
    "    return classifier.classify(toFeatureVector(preProcess(reviewSample)))"
   ]
  },
  {
   "cell_type": "code",
   "execution_count": 9,
   "metadata": {},
   "outputs": [
    {
     "name": "stdout",
     "output_type": "stream",
     "text": [
      "Now 0 rawData, 0 trainData, 0 testData\n",
      "Preparing the dataset...\n",
      "Now 21000 rawData, 0 trainData, 0 testData\n",
      "Preparing training and test data...\n",
      "After split, 21000 rawData, 16800 trainData, 4200 testData\n",
      "Training Samples: \n",
      "16800\n",
      "Features: \n",
      "44875\n",
      "Training Classifier...\n",
      "Training Classifier...\n",
      "Training Classifier...\n",
      "Training Classifier...\n",
      "Training Classifier...\n",
      "Training Classifier...\n",
      "Training Classifier...\n",
      "Training Classifier...\n",
      "Training Classifier...\n",
      "Training Classifier...\n"
     ]
    },
    {
     "data": {
      "text/plain": [
       "[(0.780747288730837, 0.7780423280423281, 0.7774963285934446, None),\n",
       " (0.7790467775429123, 0.7767857142857143, 0.7763492805968027, None),\n",
       " (0.7834211952077138, 0.7816137566137566, 0.7812554053542361, None),\n",
       " (0.7806212174546636, 0.7773148148148148, 0.77665470019054, None),\n",
       " (0.7818267889799343, 0.7786375661375662, 0.7780503524264382, None),\n",
       " (0.7810719762436629, 0.779431216931217, 0.7790789901893914, None),\n",
       " (0.7815751697760855, 0.7803571428571429, 0.7801338355367099, None),\n",
       " (0.7829724289404056, 0.7804232804232805, 0.779965487086853, None),\n",
       " (0.7793396312025964, 0.7784391534391535, 0.778222158862791, None),\n",
       " (0.7792295943184618, 0.776521164021164, 0.7759860621854467, None)]"
      ]
     },
     "execution_count": 9,
     "metadata": {},
     "output_type": "execute_result"
    }
   ],
   "source": [
    "# MAIN\n",
    "from sklearn import metrics\n",
    "from sklearn.metrics import accuracy_score\n",
    "from sklearn.metrics import precision_recall_fscore_support\n",
    "# loading reviews\n",
    "# initialize global lists that will be appended to by the methods below\n",
    "rawData = []          # the filtered data from the dataset file (should be 21000 samples)\n",
    "trainData = []        # the pre-processed training data as a percentage of the total dataset (currently 80%, or 16800 samples)\n",
    "testData = []         # the pre-processed test data as a percentage of the total dataset (currently 20%, or 4200 samples)\n",
    "\n",
    "# the output classes\n",
    "fakeLabel = 'fake'\n",
    "realLabel = 'real'\n",
    "\n",
    "# references to the data files\n",
    "reviewPath = 'amazon_reviews.txt'\n",
    "\n",
    "# Do the actual stuff (i.e. call the functions we've made)\n",
    "# We parse the dataset and put it in a raw data list\n",
    "print(\"Now %d rawData, %d trainData, %d testData\" % (len(rawData), len(trainData), len(testData)),\n",
    "      \"Preparing the dataset...\",sep='\\n')\n",
    "loadData(reviewPath) \n",
    "\n",
    "# We split the raw dataset into a set of training data and a set of test data (80/20)\n",
    "# You do the cross validation on the 80% (training data)\n",
    "# We print the number of training samples and the number of features before the split\n",
    "print(\"Now %d rawData, %d trainData, %d testData\" % (len(rawData), len(trainData), len(testData)),\n",
    "      \"Preparing training and test data...\",sep='\\n')\n",
    "splitData(0.8)\n",
    "# We print the number of training samples and the number of features after the split\n",
    "print(\"After split, %d rawData, %d trainData, %d testData\" % (len(rawData), len(trainData), len(testData)),\n",
    "      \"Training Samples: \", len(trainData), \"Features: \", len(featureDict), sep='\\n')\n",
    "\n",
    "# QUESTION 3 - Make sure there is a function call here to the\n",
    "# crossValidate function on the training set to get your results\n",
    "crossValidate(trainData, 10) # perform 10 folds using the crossvalidate method"
   ]
  },
  {
   "cell_type": "markdown",
   "metadata": {},
   "source": [
    "# Evaluate on test set"
   ]
  },
  {
   "cell_type": "code",
   "execution_count": 10,
   "metadata": {},
   "outputs": [
    {
     "name": "stdout",
     "output_type": "stream",
     "text": [
      "({'This': 0.04, 'assortment': 0.04, 'is': 0.04, 'really': 0.04, 'Hershey': 0.04, \"'\": 0.04, 's': 0.04, 'at': 0.04, 'their': 0.04, 'best': 0.04, '.': 0.08, 'The': 0.04, 'little': 0.04, 'one': 0.04, 'are': 0.04, 'always': 0.04, 'excited': 0.04, 'whenever': 0.04, 'the': 0.04, 'holiday': 0.04, 'come': 0.04, 'because': 0.04, 'of': 0.04, 'this': 0.04, 'Rating': '5', 'Verified': 'N', 'Category': 'Grocery'}, '__label1__')\n",
      "Training Classifier...\n",
      "Done training!\n",
      "Precision: 0.805210\n",
      "Recall: 0.801190\n",
      "F Score:0.800534\n"
     ]
    }
   ],
   "source": [
    "# Finally, check the accuracy of your classifier by training on all the tranin data\n",
    "# and testing on the test set\n",
    "# Will only work once all functions are complete\n",
    "functions_complete = True  # set to True once you're happy with your methods for cross val\n",
    "if functions_complete:\n",
    "    print(testData[0])   # have a look at the first test data instance\n",
    "    classifier = trainClassifier(trainData)  # train the classifier\n",
    "    testTrue = [t[1] for t in testData]   # get the ground-truth labels from the data\n",
    "    testPred = predictLabels(testData, classifier)  # classify the test data to get predicted labels\n",
    "    finalScores = precision_recall_fscore_support(testTrue, testPred, average='weighted') # evaluate\n",
    "    print(\"Done training!\")\n",
    "    print(\"Precision: %f\\nRecall: %f\\nF Score:%f\" % finalScores[:3])"
   ]
  },
  {
   "cell_type": "markdown",
   "metadata": {},
   "source": [
    "# Questions 4 and 5\n",
    "Once you're happy with your functions for Questions 1 to 3, it's advisable you make a copy of this notebook to make a new notebook, and then within it adapt and improve all three functions in the ways asked for in questions 4 and 5."
   ]
  },
  {
   "cell_type": "code",
   "execution_count": null,
   "metadata": {},
   "outputs": [],
   "source": []
  }
 ],
 "metadata": {
  "kernelspec": {
   "display_name": "Python 3",
   "language": "python",
   "name": "python3"
  },
  "language_info": {
   "codemirror_mode": {
    "name": "ipython",
    "version": 3
   },
   "file_extension": ".py",
   "mimetype": "text/x-python",
   "name": "python",
   "nbconvert_exporter": "python",
   "pygments_lexer": "ipython3",
   "version": "3.7.6"
  }
 },
 "nbformat": 4,
 "nbformat_minor": 2
}
